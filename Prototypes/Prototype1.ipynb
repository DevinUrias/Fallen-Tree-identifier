{
 "cells": [
  {
   "cell_type": "markdown",
   "id": "830e6f5a-148d-4283-9f24-640e10007db2",
   "metadata": {},
   "source": [
    "New approach entirely"
   ]
  },
  {
   "cell_type": "code",
   "execution_count": 78,
   "id": "fe8a78ce-d893-49f1-a945-cfb14d033456",
   "metadata": {},
   "outputs": [],
   "source": [
    "import pandas as pd\n",
    "import tensorflow as tf\n",
    "from tensorflow.keras import layers, models\n",
    "from sklearn.model_selection import train_test_split\n",
    "import matplotlib.pyplot as plt\n"
   ]
  },
  {
   "cell_type": "code",
   "execution_count": 79,
   "id": "ae6eb14b-ec55-4047-bf42-2dbeb94c5fac",
   "metadata": {},
   "outputs": [],
   "source": [
    "\n",
    "\n",
    "# Constants\n",
    "IMG_SIZE = 224\n",
    "BATCH_SIZE = 29\n",
    "\n",
    "# Data paths\n",
    "TRAIN_DIR = \"../Data/train\"\n",
    "VALID_DIR = \"../Data/valid\"\n",
    "TEST_DIR  = \"../Data/test\"\n",
    "\n",
    "\n",
    "\n",
    "def load_dataset_from_csv(folder_path):\n",
    "    df = pd.read_csv(os.path.join(folder_path, \"labels.csv\"))\n",
    "    image_paths = [os.path.join(folder_path, fname) for fname in df['filename']]\n",
    "    labels = df['fallen'].values\n",
    "\n",
    "    def process_image(path, label):\n",
    "        image = tf.io.read_file(path)\n",
    "        image = tf.image.decode_jpeg(image, channels=3)\n",
    "        image = tf.image.resize_with_pad(image, IMG_SIZE, IMG_SIZE)\n",
    "        image = tf.cast(image, tf.float32) / 255.0\n",
    "        return image, label\n",
    "\n",
    "    path_ds = tf.data.Dataset.from_tensor_slices((image_paths, labels))\n",
    "    image_label_ds = path_ds.map(process_image, num_parallel_calls=tf.data.AUTOTUNE)\n",
    "    return image_label_ds.batch(BATCH_SIZE).prefetch(tf.data.AUTOTUNE)\n",
    "\n"
   ]
  },
  {
   "cell_type": "code",
   "execution_count": 80,
   "id": "611ad5e6-1e87-4108-bdf9-4b5f8b588a85",
   "metadata": {},
   "outputs": [],
   "source": [
    "train_ds = load_dataset_from_csv(TRAIN_DIR)\n",
    "valid_ds = load_dataset_from_csv(VALID_DIR)\n",
    "test_ds  = load_dataset_from_csv(TEST_DIR)\n"
   ]
  },
  {
   "cell_type": "code",
   "execution_count": 81,
   "id": "581f6aa3-1f15-4c21-8e13-7640e99bc1d3",
   "metadata": {},
   "outputs": [],
   "source": [
    "model = models.Sequential([\n",
    "    layers.Input(shape=(IMG_SIZE, IMG_SIZE, 3)),\n",
    "    layers.Conv2D(32, 3, activation='relu'),\n",
    "    layers.MaxPooling2D(),\n",
    "    layers.Conv2D(64, 3, activation='relu'),\n",
    "    layers.MaxPooling2D(),\n",
    "    layers.Conv2D(128, 3, activation='relu'),\n",
    "    layers.MaxPooling2D(),\n",
    "    layers.Flatten(),\n",
    "    layers.Dense(128, activation='relu'),\n",
    "    layers.Dropout(0.5),\n",
    "    layers.Dense(1, activation='sigmoid')  # Binary output\n",
    "])\n"
   ]
  },
  {
   "cell_type": "code",
   "execution_count": 82,
   "id": "2a5b644b-17d7-4a7b-8304-2bc915af3e55",
   "metadata": {},
   "outputs": [
    {
     "name": "stdout",
     "output_type": "stream",
     "text": [
      "Epoch 1/10\n",
      "\u001b[1m10/10\u001b[0m \u001b[32m━━━━━━━━━━━━━━━━━━━━\u001b[0m\u001b[37m\u001b[0m \u001b[1m4s\u001b[0m 358ms/step - accuracy: 0.5772 - loss: 0.7979 - val_accuracy: 0.7966 - val_loss: 0.5110\n",
      "Epoch 2/10\n",
      "\u001b[1m10/10\u001b[0m \u001b[32m━━━━━━━━━━━━━━━━━━━━\u001b[0m\u001b[37m\u001b[0m \u001b[1m4s\u001b[0m 349ms/step - accuracy: 0.7736 - loss: 0.4744 - val_accuracy: 0.7966 - val_loss: 0.6142\n",
      "Epoch 3/10\n",
      "\u001b[1m10/10\u001b[0m \u001b[32m━━━━━━━━━━━━━━━━━━━━\u001b[0m\u001b[37m\u001b[0m \u001b[1m4s\u001b[0m 354ms/step - accuracy: 0.7970 - loss: 0.4608 - val_accuracy: 0.7966 - val_loss: 0.4837\n",
      "Epoch 4/10\n",
      "\u001b[1m10/10\u001b[0m \u001b[32m━━━━━━━━━━━━━━━━━━━━\u001b[0m\u001b[37m\u001b[0m \u001b[1m4s\u001b[0m 353ms/step - accuracy: 0.8099 - loss: 0.4357 - val_accuracy: 0.7966 - val_loss: 0.5296\n",
      "Epoch 5/10\n",
      "\u001b[1m10/10\u001b[0m \u001b[32m━━━━━━━━━━━━━━━━━━━━\u001b[0m\u001b[37m\u001b[0m \u001b[1m4s\u001b[0m 359ms/step - accuracy: 0.8339 - loss: 0.4107 - val_accuracy: 0.7966 - val_loss: 0.5334\n",
      "Epoch 6/10\n",
      "\u001b[1m10/10\u001b[0m \u001b[32m━━━━━━━━━━━━━━━━━━━━\u001b[0m\u001b[37m\u001b[0m \u001b[1m4s\u001b[0m 368ms/step - accuracy: 0.8380 - loss: 0.3722 - val_accuracy: 0.7966 - val_loss: 0.5218\n",
      "Epoch 7/10\n",
      "\u001b[1m10/10\u001b[0m \u001b[32m━━━━━━━━━━━━━━━━━━━━\u001b[0m\u001b[37m\u001b[0m \u001b[1m4s\u001b[0m 368ms/step - accuracy: 0.8731 - loss: 0.3568 - val_accuracy: 0.8136 - val_loss: 0.5076\n",
      "Epoch 8/10\n",
      "\u001b[1m10/10\u001b[0m \u001b[32m━━━━━━━━━━━━━━━━━━━━\u001b[0m\u001b[37m\u001b[0m \u001b[1m4s\u001b[0m 371ms/step - accuracy: 0.8794 - loss: 0.3067 - val_accuracy: 0.7797 - val_loss: 0.6640\n",
      "Epoch 9/10\n",
      "\u001b[1m10/10\u001b[0m \u001b[32m━━━━━━━━━━━━━━━━━━━━\u001b[0m\u001b[37m\u001b[0m \u001b[1m4s\u001b[0m 367ms/step - accuracy: 0.8786 - loss: 0.2651 - val_accuracy: 0.8136 - val_loss: 0.6659\n",
      "Epoch 10/10\n",
      "\u001b[1m10/10\u001b[0m \u001b[32m━━━━━━━━━━━━━━━━━━━━\u001b[0m\u001b[37m\u001b[0m \u001b[1m4s\u001b[0m 371ms/step - accuracy: 0.9262 - loss: 0.2121 - val_accuracy: 0.7966 - val_loss: 0.9501\n"
     ]
    }
   ],
   "source": [
    "model.compile(optimizer='adam',\n",
    "              loss='binary_crossentropy',\n",
    "              metrics=['accuracy'])\n",
    "\n",
    "history = model.fit(train_ds,\n",
    "                    validation_data=valid_ds,\n",
    "                    epochs=10)\n"
   ]
  },
  {
   "cell_type": "code",
   "execution_count": 83,
   "id": "25c03dc0-31ee-4526-b98c-35b681dc3a30",
   "metadata": {},
   "outputs": [
    {
     "name": "stdout",
     "output_type": "stream",
     "text": [
      "\u001b[1m3/3\u001b[0m \u001b[32m━━━━━━━━━━━━━━━━━━━━\u001b[0m\u001b[37m\u001b[0m \u001b[1m0s\u001b[0m 51ms/step - accuracy: 0.8888 - loss: 0.2964\n",
      "Test Accuracy: 89.83%\n"
     ]
    }
   ],
   "source": [
    "loss, acc = model.evaluate(test_ds)\n",
    "print(f\"Test Accuracy: {acc:.2%}\")\n"
   ]
  },
  {
   "cell_type": "code",
   "execution_count": 84,
   "id": "4cd028ef-a0e6-4272-a89e-07680aacca85",
   "metadata": {},
   "outputs": [
    {
     "name": "stdout",
     "output_type": "stream",
     "text": [
      "Epoch 1/10\n"
     ]
    },
    {
     "name": "stderr",
     "output_type": "stream",
     "text": [
      "/Users/drapcat/4380env/lib/python3.9/site-packages/keras/src/layers/convolutional/base_conv.py:113: UserWarning: Do not pass an `input_shape`/`input_dim` argument to a layer. When using Sequential models, prefer using an `Input(shape)` object as the first layer in the model instead.\n",
      "  super().__init__(activity_regularizer=activity_regularizer, **kwargs)\n"
     ]
    },
    {
     "name": "stdout",
     "output_type": "stream",
     "text": [
      "\u001b[1m10/10\u001b[0m \u001b[32m━━━━━━━━━━━━━━━━━━━━\u001b[0m\u001b[37m\u001b[0m \u001b[1m5s\u001b[0m 393ms/step - accuracy: 0.6661 - loss: 0.9502 - val_accuracy: 0.6441 - val_loss: 0.6224\n",
      "Epoch 2/10\n",
      "\u001b[1m10/10\u001b[0m \u001b[32m━━━━━━━━━━━━━━━━━━━━\u001b[0m\u001b[37m\u001b[0m \u001b[1m4s\u001b[0m 391ms/step - accuracy: 0.6829 - loss: 0.5916 - val_accuracy: 0.7627 - val_loss: 0.7115\n",
      "Epoch 3/10\n",
      "\u001b[1m10/10\u001b[0m \u001b[32m━━━━━━━━━━━━━━━━━━━━\u001b[0m\u001b[37m\u001b[0m \u001b[1m4s\u001b[0m 400ms/step - accuracy: 0.7486 - loss: 0.4980 - val_accuracy: 0.7966 - val_loss: 0.7917\n",
      "Epoch 4/10\n",
      "\u001b[1m10/10\u001b[0m \u001b[32m━━━━━━━━━━━━━━━━━━━━\u001b[0m\u001b[37m\u001b[0m \u001b[1m4s\u001b[0m 393ms/step - accuracy: 0.7968 - loss: 0.4609 - val_accuracy: 0.8136 - val_loss: 0.5625\n",
      "Epoch 5/10\n",
      "\u001b[1m10/10\u001b[0m \u001b[32m━━━━━━━━━━━━━━━━━━━━\u001b[0m\u001b[37m\u001b[0m \u001b[1m4s\u001b[0m 394ms/step - accuracy: 0.8036 - loss: 0.4690 - val_accuracy: 0.7966 - val_loss: 0.6506\n",
      "Epoch 6/10\n",
      "\u001b[1m10/10\u001b[0m \u001b[32m━━━━━━━━━━━━━━━━━━━━\u001b[0m\u001b[37m\u001b[0m \u001b[1m4s\u001b[0m 396ms/step - accuracy: 0.7896 - loss: 0.4200 - val_accuracy: 0.8136 - val_loss: 0.5141\n",
      "Epoch 7/10\n",
      "\u001b[1m10/10\u001b[0m \u001b[32m━━━━━━━━━━━━━━━━━━━━\u001b[0m\u001b[37m\u001b[0m \u001b[1m4s\u001b[0m 395ms/step - accuracy: 0.8132 - loss: 0.4134 - val_accuracy: 0.7966 - val_loss: 0.6613\n",
      "Epoch 8/10\n",
      "\u001b[1m10/10\u001b[0m \u001b[32m━━━━━━━━━━━━━━━━━━━━\u001b[0m\u001b[37m\u001b[0m \u001b[1m4s\u001b[0m 406ms/step - accuracy: 0.8149 - loss: 0.4535 - val_accuracy: 0.8136 - val_loss: 0.5395\n",
      "Epoch 9/10\n",
      "\u001b[1m10/10\u001b[0m \u001b[32m━━━━━━━━━━━━━━━━━━━━\u001b[0m\u001b[37m\u001b[0m \u001b[1m4s\u001b[0m 398ms/step - accuracy: 0.7743 - loss: 0.4417 - val_accuracy: 0.8136 - val_loss: 0.4806\n",
      "Epoch 10/10\n",
      "\u001b[1m10/10\u001b[0m \u001b[32m━━━━━━━━━━━━━━━━━━━━\u001b[0m\u001b[37m\u001b[0m \u001b[1m4s\u001b[0m 405ms/step - accuracy: 0.8204 - loss: 0.4367 - val_accuracy: 0.7966 - val_loss: 0.6677\n"
     ]
    }
   ],
   "source": [
    "data_augmentation = tf.keras.Sequential([\n",
    "    layers.RandomFlip(\"horizontal\"),\n",
    "    layers.RandomRotation(0.1),\n",
    "    layers.RandomZoom(0.1),\n",
    "])\n",
    "\n",
    "model = models.Sequential([\n",
    "    data_augmentation,\n",
    "    layers.Conv2D(32, 3, activation='relu', input_shape=(IMG_SIZE, IMG_SIZE, 3)),  # 👈 input shape goes here\n",
    "    layers.MaxPooling2D(),\n",
    "    layers.Conv2D(64, 3, activation='relu'),\n",
    "    layers.MaxPooling2D(),\n",
    "    layers.Conv2D(128, 3, activation='relu'),\n",
    "    layers.MaxPooling2D(),\n",
    "    layers.Flatten(),\n",
    "    layers.Dense(128, activation='relu'),\n",
    "    layers.Dropout(0.5),\n",
    "    layers.Dense(1, activation='sigmoid')  # Binary output\n",
    "])\n",
    "\n",
    "model.compile(optimizer='adam',\n",
    "              loss='binary_crossentropy',\n",
    "              metrics=['accuracy'])\n",
    "\n",
    "history = model.fit(train_ds,\n",
    "                    validation_data=valid_ds,\n",
    "                    epochs=10)\n"
   ]
  },
  {
   "cell_type": "code",
   "execution_count": 85,
   "id": "8a585365-4f7b-48a0-9df2-c7790373fda2",
   "metadata": {},
   "outputs": [
    {
     "name": "stdout",
     "output_type": "stream",
     "text": [
      "\u001b[1m1/1\u001b[0m \u001b[32m━━━━━━━━━━━━━━━━━━━━\u001b[0m\u001b[37m\u001b[0m \u001b[1m0s\u001b[0m 148ms/step\n",
      "\u001b[1m1/1\u001b[0m \u001b[32m━━━━━━━━━━━━━━━━━━━━\u001b[0m\u001b[37m\u001b[0m \u001b[1m0s\u001b[0m 93ms/step\n",
      "\u001b[1m1/1\u001b[0m \u001b[32m━━━━━━━━━━━━━━━━━━━━\u001b[0m\u001b[37m\u001b[0m \u001b[1m0s\u001b[0m 36ms/step\n"
     ]
    },
    {
     "name": "stderr",
     "output_type": "stream",
     "text": [
      "2025-07-21 16:19:52.643829: I tensorflow/core/framework/local_rendezvous.cc:407] Local rendezvous is aborting with status: OUT_OF_RANGE: End of sequence\n"
     ]
    }
   ],
   "source": [
    "def load_dataset_with_filenames(folder_path):\n",
    "    df = pd.read_csv(os.path.join(folder_path, \"labels.csv\"))\n",
    "    image_paths = [os.path.join(folder_path, fname) for fname in df['filename']]\n",
    "    labels = df['fallen'].values\n",
    "\n",
    "    def process(path, label):\n",
    "        image = tf.io.read_file(path)\n",
    "        image = tf.image.decode_jpeg(image, channels=3)\n",
    "        image = tf.image.resize_with_pad(image, IMG_SIZE, IMG_SIZE)\n",
    "        image = tf.cast(image, tf.float32) / 255.0\n",
    "        return image, label, path  # keep path for reference\n",
    "\n",
    "    ds = tf.data.Dataset.from_tensor_slices((image_paths, labels))\n",
    "    return ds.map(process).batch(BATCH_SIZE)\n",
    "\n",
    "\n",
    "predictions = []\n",
    "for images, labels, paths in load_dataset_with_filenames(TEST_DIR):\n",
    "    probs = model.predict(images).flatten()\n",
    "    preds = (probs > 0.5).astype(int)\n",
    "    for i in range(len(images)):\n",
    "        predictions.append({\n",
    "            \"filename\": paths[i].numpy().decode(),\n",
    "            \"predicted\": int(preds[i]),\n",
    "            \"actual\": int(labels[i].numpy()),\n",
    "            \"confidence\": float(probs[i])\n",
    "        })\n",
    "\n",
    "\n",
    "import pandas as pd\n",
    "results_df = pd.DataFrame(predictions)\n",
    "\n"
   ]
  },
  {
   "cell_type": "code",
   "execution_count": 86,
   "id": "063457ff-7f83-42bc-866b-221253fd6f50",
   "metadata": {},
   "outputs": [
    {
     "name": "stdout",
     "output_type": "stream",
     "text": [
      "\u001b[1m3/3\u001b[0m \u001b[32m━━━━━━━━━━━━━━━━━━━━\u001b[0m\u001b[37m\u001b[0m \u001b[1m0s\u001b[0m 51ms/step - accuracy: 0.8246 - loss: 0.3370\n",
      "Test Accuracy: 84.75%\n"
     ]
    }
   ],
   "source": [
    "loss, acc = model.evaluate(test_ds)\n",
    "print(f\"Test Accuracy: {acc:.2%}\")"
   ]
  },
  {
   "cell_type": "code",
   "execution_count": 87,
   "id": "bbb626d5-987a-4d89-a9ff-3dcf16b9d027",
   "metadata": {},
   "outputs": [
    {
     "data": {
      "text/html": [
       "<div>\n",
       "<style scoped>\n",
       "    .dataframe tbody tr th:only-of-type {\n",
       "        vertical-align: middle;\n",
       "    }\n",
       "\n",
       "    .dataframe tbody tr th {\n",
       "        vertical-align: top;\n",
       "    }\n",
       "\n",
       "    .dataframe thead th {\n",
       "        text-align: right;\n",
       "    }\n",
       "</style>\n",
       "<table border=\"1\" class=\"dataframe\">\n",
       "  <thead>\n",
       "    <tr style=\"text-align: right;\">\n",
       "      <th></th>\n",
       "      <th>filename</th>\n",
       "      <th>predicted</th>\n",
       "      <th>actual</th>\n",
       "      <th>confidence</th>\n",
       "    </tr>\n",
       "  </thead>\n",
       "  <tbody>\n",
       "    <tr>\n",
       "      <th>1</th>\n",
       "      <td>../Data/test/IMG_0449_jpeg_jpg.rf.64e93f0e7001...</td>\n",
       "      <td>0</td>\n",
       "      <td>1</td>\n",
       "      <td>0.194553</td>\n",
       "    </tr>\n",
       "    <tr>\n",
       "      <th>2</th>\n",
       "      <td>../Data/test/IMG_0433_jpeg_jpg.rf.1485f0e51d7c...</td>\n",
       "      <td>0</td>\n",
       "      <td>1</td>\n",
       "      <td>0.359566</td>\n",
       "    </tr>\n",
       "    <tr>\n",
       "      <th>4</th>\n",
       "      <td>../Data/test/IMG_0458_jpeg_jpg.rf.2c5e4a9004b3...</td>\n",
       "      <td>0</td>\n",
       "      <td>1</td>\n",
       "      <td>0.457838</td>\n",
       "    </tr>\n",
       "    <tr>\n",
       "      <th>8</th>\n",
       "      <td>../Data/test/IMG_20210928_102051_jpg.rf.3df82b...</td>\n",
       "      <td>1</td>\n",
       "      <td>0</td>\n",
       "      <td>0.861663</td>\n",
       "    </tr>\n",
       "    <tr>\n",
       "      <th>10</th>\n",
       "      <td>../Data/test/IMG_20210928_102203_jpg.rf.f22349...</td>\n",
       "      <td>1</td>\n",
       "      <td>0</td>\n",
       "      <td>0.909025</td>\n",
       "    </tr>\n",
       "    <tr>\n",
       "      <th>12</th>\n",
       "      <td>../Data/test/IMG_0511_jpeg_jpg.rf.b444f2176b30...</td>\n",
       "      <td>0</td>\n",
       "      <td>1</td>\n",
       "      <td>0.324991</td>\n",
       "    </tr>\n",
       "    <tr>\n",
       "      <th>16</th>\n",
       "      <td>../Data/test/IMG_0505_jpeg_jpg.rf.9661dc857dab...</td>\n",
       "      <td>0</td>\n",
       "      <td>1</td>\n",
       "      <td>0.402342</td>\n",
       "    </tr>\n",
       "    <tr>\n",
       "      <th>36</th>\n",
       "      <td>../Data/test/20210928_164146_jpg.rf.8527ef8099...</td>\n",
       "      <td>0</td>\n",
       "      <td>1</td>\n",
       "      <td>0.005947</td>\n",
       "    </tr>\n",
       "    <tr>\n",
       "      <th>48</th>\n",
       "      <td>../Data/test/IMG_0428_jpeg_jpg.rf.74a4b207cf12...</td>\n",
       "      <td>0</td>\n",
       "      <td>1</td>\n",
       "      <td>0.198675</td>\n",
       "    </tr>\n",
       "  </tbody>\n",
       "</table>\n",
       "</div>"
      ],
      "text/plain": [
       "                                             filename  predicted  actual  \\\n",
       "1   ../Data/test/IMG_0449_jpeg_jpg.rf.64e93f0e7001...          0       1   \n",
       "2   ../Data/test/IMG_0433_jpeg_jpg.rf.1485f0e51d7c...          0       1   \n",
       "4   ../Data/test/IMG_0458_jpeg_jpg.rf.2c5e4a9004b3...          0       1   \n",
       "8   ../Data/test/IMG_20210928_102051_jpg.rf.3df82b...          1       0   \n",
       "10  ../Data/test/IMG_20210928_102203_jpg.rf.f22349...          1       0   \n",
       "12  ../Data/test/IMG_0511_jpeg_jpg.rf.b444f2176b30...          0       1   \n",
       "16  ../Data/test/IMG_0505_jpeg_jpg.rf.9661dc857dab...          0       1   \n",
       "36  ../Data/test/20210928_164146_jpg.rf.8527ef8099...          0       1   \n",
       "48  ../Data/test/IMG_0428_jpeg_jpg.rf.74a4b207cf12...          0       1   \n",
       "\n",
       "    confidence  \n",
       "1     0.194553  \n",
       "2     0.359566  \n",
       "4     0.457838  \n",
       "8     0.861663  \n",
       "10    0.909025  \n",
       "12    0.324991  \n",
       "16    0.402342  \n",
       "36    0.005947  \n",
       "48    0.198675  "
      ]
     },
     "execution_count": 87,
     "metadata": {},
     "output_type": "execute_result"
    }
   ],
   "source": [
    "# See mismatches\n",
    "errors = results_df[results_df[\"predicted\"] != results_df[\"actual\"]]\n",
    "\n",
    "# Preview a few\n",
    "errors.head(20)\n"
   ]
  },
  {
   "cell_type": "code",
   "execution_count": 88,
   "id": "0360ece8-079d-4338-a432-db27846ca57b",
   "metadata": {},
   "outputs": [],
   "source": [
    "from sklearn.metrics import confusion_matrix, classification_report\n"
   ]
  },
  {
   "cell_type": "code",
   "execution_count": 89,
   "id": "b2089042-bb4c-45d1-be9b-78d17442d895",
   "metadata": {},
   "outputs": [
    {
     "name": "stdout",
     "output_type": "stream",
     "text": [
      "\u001b[1m1/1\u001b[0m \u001b[32m━━━━━━━━━━━━━━━━━━━━\u001b[0m\u001b[37m\u001b[0m \u001b[1m0s\u001b[0m 139ms/step\n",
      "\u001b[1m1/1\u001b[0m \u001b[32m━━━━━━━━━━━━━━━━━━━━\u001b[0m\u001b[37m\u001b[0m \u001b[1m0s\u001b[0m 92ms/step\n",
      "\u001b[1m1/1\u001b[0m \u001b[32m━━━━━━━━━━━━━━━━━━━━\u001b[0m\u001b[37m\u001b[0m \u001b[1m0s\u001b[0m 14ms/step\n",
      "Confusion Matrix:\n",
      "[[42  2]\n",
      " [ 7  8]]\n",
      "\n",
      "Classification Report:\n",
      "              precision    recall  f1-score   support\n",
      "\n",
      "  Not Fallen       0.86      0.95      0.90        44\n",
      "      Fallen       0.80      0.53      0.64        15\n",
      "\n",
      "    accuracy                           0.85        59\n",
      "   macro avg       0.83      0.74      0.77        59\n",
      "weighted avg       0.84      0.85      0.84        59\n",
      "\n"
     ]
    }
   ],
   "source": [
    "y_true = []\n",
    "y_pred = []\n",
    "\n",
    "for images, labels in test_ds:\n",
    "    probs = model.predict(images).flatten()\n",
    "    preds = (probs > 0.5).astype(int)\n",
    "    y_true.extend(labels.numpy())\n",
    "    y_pred.extend(preds)\n",
    "\n",
    "# Display confusion matrix and classification report\n",
    "print(\"Confusion Matrix:\")\n",
    "print(confusion_matrix(y_true, y_pred))\n",
    "\n",
    "print(\"\\nClassification Report:\")\n",
    "print(classification_report(y_true, y_pred, target_names=[\"Not Fallen\", \"Fallen\"]))\n"
   ]
  },
  {
   "cell_type": "code",
   "execution_count": null,
   "id": "011cf9c6-cab5-4651-8bd0-1c5b2cd3fb16",
   "metadata": {},
   "outputs": [],
   "source": []
  }
 ],
 "metadata": {
  "kernelspec": {
   "display_name": "Python 3 (ipykernel)",
   "language": "python",
   "name": "python3"
  },
  "language_info": {
   "codemirror_mode": {
    "name": "ipython",
    "version": 3
   },
   "file_extension": ".py",
   "mimetype": "text/x-python",
   "name": "python",
   "nbconvert_exporter": "python",
   "pygments_lexer": "ipython3",
   "version": "3.9.6"
  }
 },
 "nbformat": 4,
 "nbformat_minor": 5
}
